{
 "cells": [
  {
   "cell_type": "markdown",
   "metadata": {},
   "source": [
    "## `19IT031 Aman Desai`\n",
    "\n",
    "## Practical - 10 `CNN for Image Classification`"
   ]
  },
  {
   "cell_type": "markdown",
   "metadata": {},
   "source": [
    "The CIFAR-10 and CIFAR-100 are labeled subsets of the 80 million tiny images dataset. They were collected by Alex Krizhevsky, Vinod Nair, and Geoffrey Hinton.\n",
    "\n",
    "The CIFAR-10 dataset consists of 60000 32x32 colour images in 10 classes, with 6000 images per class. There are 50000 training images and 10000 test images.\n",
    "\n",
    "The dataset is divided into five training batches and one test batch, each with 10000 images. The test batch contains exactly 1000 randomly-selected images from each class. The training\n",
    "batches contain the remaining images in random order, but some training batches may contain more images from one class than another. Between them, the training batches contain\n",
    "exactly 5000 images from each class."
   ]
  },
  {
   "cell_type": "code",
   "execution_count": 1,
   "metadata": {},
   "outputs": [],
   "source": [
    "import tensorflow as tf\n",
    "from tensorflow.keras import datasets, layers, models\n",
    "import matplotlib.pyplot as plt\n",
    "import numpy as np"
   ]
  },
  {
   "cell_type": "code",
   "execution_count": 2,
   "metadata": {},
   "outputs": [
    {
     "name": "stdout",
     "output_type": "stream",
     "text": [
      "Downloading data from https://www.cs.toronto.edu/~kriz/cifar-10-python.tar.gz\n",
      "170500096/170498071 [==============================] - 780s 5us/step\n",
      "170508288/170498071 [==============================] - 780s 5us/step\n"
     ]
    },
    {
     "data": {
      "text/plain": [
       "(50000, 32, 32, 3)"
      ]
     },
     "execution_count": 2,
     "metadata": {},
     "output_type": "execute_result"
    }
   ],
   "source": [
    "(X_train, y_train) , (X_test, y_test) = datasets.cifar10.load_data()\n",
    "X_train.shape"
   ]
  },
  {
   "cell_type": "code",
   "execution_count": 3,
   "metadata": {},
   "outputs": [
    {
     "data": {
      "text/plain": [
       "array([[6],\n",
       "       [9],\n",
       "       [9]], dtype=uint8)"
      ]
     },
     "execution_count": 3,
     "metadata": {},
     "output_type": "execute_result"
    }
   ],
   "source": [
    "y_train[:3] # y_train is a 2D array, for our classification having 1D array is good. so i will convert this to 1D array"
   ]
  },
  {
   "cell_type": "code",
   "execution_count": 4,
   "metadata": {},
   "outputs": [
    {
     "data": {
      "text/plain": [
       "array([6, 9, 9], dtype=uint8)"
      ]
     },
     "execution_count": 4,
     "metadata": {},
     "output_type": "execute_result"
    }
   ],
   "source": [
    "y_train = y_train.reshape(-1,)\n",
    "y_train[:3]"
   ]
  },
  {
   "cell_type": "code",
   "execution_count": 5,
   "metadata": {},
   "outputs": [
    {
     "data": {
      "text/plain": [
       "array([3, 8, 8], dtype=uint8)"
      ]
     },
     "execution_count": 5,
     "metadata": {},
     "output_type": "execute_result"
    }
   ],
   "source": [
    "y_test = y_test.reshape(-1,)\n",
    "y_test[:3]"
   ]
  },
  {
   "cell_type": "code",
   "execution_count": 6,
   "metadata": {},
   "outputs": [],
   "source": [
    "classes = [\"airplane\",\"automobile\",\"bird\",\"cat\",\"deer\",\"dog\",\"frog\",\"horse\",\"ship\",\"truck\"]"
   ]
  },
  {
   "cell_type": "code",
   "execution_count": 7,
   "metadata": {},
   "outputs": [],
   "source": [
    "# Plotting of the Image\n",
    "def plot_sample(X, y, index):\n",
    "    plt.figure(figsize = (15,2))\n",
    "    plt.imshow(X[index])\n",
    "    plt.xlabel(classes[y[index]])"
   ]
  },
  {
   "cell_type": "code",
   "execution_count": 8,
   "metadata": {},
   "outputs": [
    {
     "data": {
      "image/png": "[encoded data removed]",
      "text/plain": [
       "<Figure size 1080x144 with 1 Axes>"
      ]
     },
     "metadata": {
      "needs_background": "light"
     },
     "output_type": "display_data"
    }
   ],
   "source": [
    "plot_sample(X_train, y_train, 2)"
   ]
  },
  {
   "cell_type": "code",
   "execution_count": 9,
   "metadata": {},
   "outputs": [],
   "source": [
    "X_train = X_train / 255.0\n",
    "X_test = X_test / 255.0"
   ]
  },
  {
   "cell_type": "code",
   "execution_count": 10,
   "metadata": {},
   "outputs": [
    {
     "name": "stdout",
     "output_type": "stream",
     "text": [
      "Epoch 1/5\n",
      "1563/1563 [==============================] - 80s 48ms/step - loss: 1.8101 - accuracy: 0.3554\n",
      "Epoch 2/5\n",
      "1563/1563 [==============================] - 77s 49ms/step - loss: 1.6224 - accuracy: 0.4264\n",
      "Epoch 3/5\n",
      "1563/1563 [==============================] - 77s 49ms/step - loss: 1.5412 - accuracy: 0.4556\n",
      "Epoch 4/5\n",
      "1563/1563 [==============================] - 77s 50ms/step - loss: 1.4804 - accuracy: 0.4791\n",
      "Epoch 5/5\n",
      "1563/1563 [==============================] - 78s 50ms/step - loss: 1.4326 - accuracy: 0.4955\n"
     ]
    },
    {
     "data": {
      "text/plain": [
       "<keras.callbacks.History at 0x24f9fb0f130>"
      ]
     },
     "execution_count": 10,
     "metadata": {},
     "output_type": "execute_result"
    }
   ],
   "source": [
    "# Build simple artificial neural network for image classification\n",
    "ann = models.Sequential([\n",
    "    layers.Flatten(input_shape=(32,32,3)),\n",
    "    layers.Dense(3000, activation='relu'),\n",
    "    layers.Dense(1000, activation='relu'),\n",
    "    layers.Dense(10, activation='softmax')\n",
    "    ])\n",
    "ann.compile(optimizer='SGD',loss='sparse_categorical_crossentropy',metrics=['accuracy'])\n",
    "ann.fit(X_train, y_train, epochs=5)"
   ]
  },
  {
   "cell_type": "code",
   "execution_count": 11,
   "metadata": {},
   "outputs": [
    {
     "name": "stdout",
     "output_type": "stream",
     "text": [
      "Classification Report: \n",
      "               precision    recall  f1-score   support\n",
      "\n",
      "           0       0.49      0.66      0.56      1000\n",
      "           1       0.55      0.69      0.61      1000\n",
      "           2       0.36      0.39      0.37      1000\n",
      "           3       0.43      0.23      0.30      1000\n",
      "           4       0.35      0.51      0.41      1000\n",
      "           5       0.54      0.25      0.34      1000\n",
      "           6       0.58      0.43      0.49      1000\n",
      "           7       0.49      0.64      0.55      1000\n",
      "           8       0.56      0.63      0.59      1000\n",
      "           9       0.64      0.41      0.50      1000\n",
      "\n",
      "    accuracy                           0.48     10000\n",
      "   macro avg       0.50      0.48      0.47     10000\n",
      "weighted avg       0.50      0.48      0.47     10000\n",
      "\n"
     ]
    }
   ],
   "source": [
    "from sklearn.metrics import confusion_matrix , classification_report\n",
    "import numpy as np\n",
    "y_pred = ann.predict(X_test)\n",
    "y_pred_classes = [np.argmax(element) for element in y_pred]\n",
    "print(\"Classification Report: \\n\", classification_report(y_test, y_pred_classes))"
   ]
  },
  {
   "cell_type": "code",
   "execution_count": 12,
   "metadata": {},
   "outputs": [],
   "source": [
    "# Now build a convolutional neural network to train images\n",
    "cnn = models.Sequential([\n",
    "layers.Conv2D(filters=32, kernel_size=(3, 3), activation='relu', input_shape=(32, 32, 3)),\n",
    "layers.MaxPooling2D((2, 2)),\n",
    "layers.Conv2D(filters=64, kernel_size=(3, 3), activation='relu'),\n",
    "layers.MaxPooling2D((2, 2)),\n",
    "layers.Flatten(),\n",
    "layers.Dense(64, activation='relu'),\n",
    "layers.Dense(10, activation='softmax')\n",
    "])"
   ]
  },
  {
   "cell_type": "code",
   "execution_count": 16,
   "metadata": {},
   "outputs": [],
   "source": [
    "cnn.compile(optimizer='adam',\n",
    "loss='sparse_categorical_crossentropy',\n",
    "metrics=['accuracy'])"
   ]
  },
  {
   "cell_type": "code",
   "execution_count": 17,
   "metadata": {},
   "outputs": [
    {
     "name": "stdout",
     "output_type": "stream",
     "text": [
      "Epoch 1/15\n",
      "1563/1563 [==============================] - 46s 25ms/step - loss: 1.4560 - accuracy: 0.4786\n",
      "Epoch 2/15\n",
      "1563/1563 [==============================] - 42s 27ms/step - loss: 1.0906 - accuracy: 0.6187\n",
      "Epoch 3/15\n",
      "1563/1563 [==============================] - 43s 27ms/step - loss: 0.9568 - accuracy: 0.6703\n",
      "Epoch 4/15\n",
      "1563/1563 [==============================] - 43s 27ms/step - loss: 0.8694 - accuracy: 0.6991\n",
      "Epoch 5/15\n",
      "1563/1563 [==============================] - 40s 26ms/step - loss: 0.8006 - accuracy: 0.7251\n",
      "Epoch 6/15\n",
      "1563/1563 [==============================] - 44s 28ms/step - loss: 0.7443 - accuracy: 0.7432\n",
      "Epoch 7/15\n",
      "1563/1563 [==============================] - 43s 27ms/step - loss: 0.6901 - accuracy: 0.7589\n",
      "Epoch 8/15\n",
      "1563/1563 [==============================] - 43s 28ms/step - loss: 0.6407 - accuracy: 0.7778\n",
      "Epoch 9/15\n",
      "1563/1563 [==============================] - 41s 26ms/step - loss: 0.5928 - accuracy: 0.7938\n",
      "Epoch 10/15\n",
      "1563/1563 [==============================] - 40s 26ms/step - loss: 0.5573 - accuracy: 0.8053\n",
      "Epoch 11/15\n",
      "1563/1563 [==============================] - 42s 27ms/step - loss: 0.5177 - accuracy: 0.8182\n",
      "Epoch 12/15\n",
      "1563/1563 [==============================] - 41s 26ms/step - loss: 0.4795 - accuracy: 0.8326\n",
      "Epoch 13/15\n",
      "1563/1563 [==============================] - 42s 27ms/step - loss: 0.4420 - accuracy: 0.8451\n",
      "Epoch 14/15\n",
      "1563/1563 [==============================] - 44s 28ms/step - loss: 0.4126 - accuracy: 0.8540\n",
      "Epoch 15/15\n",
      "1563/1563 [==============================] - 44s 28ms/step - loss: 0.3853 - accuracy: 0.8631\n"
     ]
    },
    {
     "data": {
      "text/plain": [
       "<keras.callbacks.History at 0x24f9aa3b430>"
      ]
     },
     "execution_count": 17,
     "metadata": {},
     "output_type": "execute_result"
    }
   ],
   "source": [
    "cnn.fit(X_train, y_train, epochs=15)"
   ]
  },
  {
   "cell_type": "code",
   "execution_count": 18,
   "metadata": {},
   "outputs": [
    {
     "name": "stdout",
     "output_type": "stream",
     "text": [
      "313/313 [==============================] - 2s 5ms/step - loss: 1.1767 - accuracy: 0.6915\n"
     ]
    },
    {
     "data": {
      "text/plain": [
       "[1.1766937971115112, 0.6915000081062317]"
      ]
     },
     "execution_count": 18,
     "metadata": {},
     "output_type": "execute_result"
    }
   ],
   "source": [
    "cnn.evaluate(X_test,y_test)"
   ]
  },
  {
   "cell_type": "code",
   "execution_count": 19,
   "metadata": {},
   "outputs": [
    {
     "data": {
      "text/plain": [
       "array([[3.9789830e-07, 2.6758245e-11, 2.1648362e-05, 9.7669971e-01,\n",
       "        3.3283814e-05, 2.2921404e-02, 3.1996510e-04, 1.6998590e-07,\n",
       "        3.4983793e-06, 3.1896269e-10],\n",
       "       [2.1361439e-03, 6.8034708e-02, 3.9264805e-06, 2.3136847e-08,\n",
       "        5.5136194e-11, 1.7254802e-10, 5.5093301e-11, 1.9256474e-13,\n",
       "        9.2978454e-01, 4.0629504e-05],\n",
       "       [4.3061096e-02, 9.0831727e-01, 4.2352569e-03, 6.3392770e-04,\n",
       "        9.2706017e-05, 7.1744071e-06, 1.3651362e-03, 3.2121636e-04,\n",
       "        4.1565415e-02, 4.0077063e-04],\n",
       "       [6.5047133e-01, 3.9986926e-06, 6.7519367e-04, 2.5228714e-05,\n",
       "        8.8510162e-05, 4.2378825e-09, 1.5827524e-07, 1.0194930e-08,\n",
       "        3.4873566e-01, 1.6465673e-08],\n",
       "       [4.0941969e-11, 9.4705861e-09, 1.4169747e-05, 1.7547101e-03,\n",
       "        9.3893272e-01, 1.4031496e-05, 5.9284393e-02, 1.7014904e-09,\n",
       "        1.1386865e-10, 6.8976505e-11]], dtype=float32)"
      ]
     },
     "execution_count": 19,
     "metadata": {},
     "output_type": "execute_result"
    }
   ],
   "source": [
    "y_pred = cnn.predict(X_test)\n",
    "y_pred[:5]"
   ]
  },
  {
   "cell_type": "code",
   "execution_count": 20,
   "metadata": {},
   "outputs": [
    {
     "data": {
      "text/plain": [
       "[3, 8, 1, 0, 4]"
      ]
     },
     "execution_count": 20,
     "metadata": {},
     "output_type": "execute_result"
    }
   ],
   "source": [
    "y_classes = [np.argmax(element) for element in y_pred]\n",
    "y_classes[:5]"
   ]
  },
  {
   "cell_type": "code",
   "execution_count": 21,
   "metadata": {},
   "outputs": [
    {
     "data": {
      "text/plain": [
       "array([3, 8, 8, 0, 6], dtype=uint8)"
      ]
     },
     "execution_count": 21,
     "metadata": {},
     "output_type": "execute_result"
    }
   ],
   "source": [
    "y_test[:5]"
   ]
  },
  {
   "cell_type": "code",
   "execution_count": 22,
   "metadata": {},
   "outputs": [
    {
     "data": {
      "image/png": "[encoded data removed]",
      "text/plain": [
       "<Figure size 1080x144 with 1 Axes>"
      ]
     },
     "metadata": {
      "needs_background": "light"
     },
     "output_type": "display_data"
    }
   ],
   "source": [
    "plot_sample(X_test, y_test,16)"
   ]
  },
  {
   "cell_type": "code",
   "execution_count": 23,
   "metadata": {},
   "outputs": [
    {
     "data": {
      "text/plain": [
       "'dog'"
      ]
     },
     "execution_count": 23,
     "metadata": {},
     "output_type": "execute_result"
    }
   ],
   "source": [
    "classes[y_classes[16]]"
   ]
  },
  {
   "cell_type": "code",
   "execution_count": 24,
   "metadata": {},
   "outputs": [
    {
     "name": "stdout",
     "output_type": "stream",
     "text": [
      "Classification Report: \n",
      "               precision    recall  f1-score   support\n",
      "\n",
      "           0       0.65      0.81      0.72      1000\n",
      "           1       0.75      0.87      0.81      1000\n",
      "           2       0.57      0.61      0.59      1000\n",
      "           3       0.52      0.49      0.50      1000\n",
      "           4       0.66      0.59      0.62      1000\n",
      "           5       0.57      0.65      0.61      1000\n",
      "           6       0.78      0.76      0.77      1000\n",
      "           7       0.83      0.69      0.75      1000\n",
      "           8       0.81      0.80      0.80      1000\n",
      "           9       0.85      0.65      0.74      1000\n",
      "\n",
      "    accuracy                           0.69     10000\n",
      "   macro avg       0.70      0.69      0.69     10000\n",
      "weighted avg       0.70      0.69      0.69     10000\n",
      "\n"
     ]
    }
   ],
   "source": [
    "from sklearn.metrics import confusion_matrix , classification_report\n",
    "import numpy as np\n",
    "y_pred = cnn.predict(X_test)\n",
    "y_pred_classes = [np.argmax(element) for element in y_pred]\n",
    "print(\"Classification Report: \\n\", classification_report(y_test, y_pred_classes))"
   ]
  },
  {
   "cell_type": "markdown",
   "metadata": {},
   "source": [
    "## Conclusion:\n",
    "\n",
    "By performing this practical i learned about convolution neural network, it is used for image classification also learned about Convolution, Relu and Pooling method and based on these classify the image of\n",
    "CIFAR-10 Dataset."
   ]
  },
  {
   "cell_type": "code",
   "execution_count": null,
   "metadata": {},
   "outputs": [],
   "source": []
  }
 ],
 "metadata": {
  "colab": {
   "name": "CNN MNIST.ipynb",
   "provenance": [],
   "toc_visible": true
  },
  "kernelspec": {
   "display_name": "Python 3",
   "language": "python",
   "name": "python3"
  },
  "language_info": {
   "codemirror_mode": {
    "name": "ipython",
    "version": 3
   },
   "file_extension": ".py",
   "mimetype": "text/x-python",
   "name": "python",
   "nbconvert_exporter": "python",
   "pygments_lexer": "ipython3",
   "version": "3.8.3"
  }
 },
 "nbformat": 4,
 "nbformat_minor": 5
}
