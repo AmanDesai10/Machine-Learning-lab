{
 "cells": [
  {
   "cell_type": "markdown",
   "metadata": {},
   "source": [
    "#### Name: Aman Desai\n",
    "#### ID: 19IT031\n",
    "#### Practical - 6 (Perceptron Gate - NOT, OR, AND)"
   ]
  },
  {
   "cell_type": "code",
   "execution_count": 1,
   "metadata": {
    "id": "haEKfM5m4Gbb"
   },
   "outputs": [],
   "source": [
    "import numpy as np"
   ]
  },
  {
   "cell_type": "markdown",
   "metadata": {},
   "source": [
    "Single layer neural network is known as perceptron\n",
    "Here,\n",
    "w = weight\n",
    "b = bias"
   ]
  },
  {
   "cell_type": "code",
   "execution_count": 2,
   "metadata": {
    "id": "Z3hNDlxaEQDz"
   },
   "outputs": [],
   "source": [
    "def unitStep(v):\n",
    "    if v > 0:\n",
    "        return 1\n",
    "    else:\n",
    "        return 0"
   ]
  },
  {
   "cell_type": "code",
   "execution_count": 3,
   "metadata": {
    "id": "2SWRM8-nEbeq"
   },
   "outputs": [],
   "source": [
    "def perceptronModel(x, w, b):\n",
    "    v = np.dot(w, x) + b\n",
    "    y = unitStep(v)\n",
    "    return y"
   ]
  },
  {
   "cell_type": "markdown",
   "metadata": {
    "id": "j3tNOEolF9oK"
   },
   "source": [
    "### NOT Gate"
   ]
  },
  {
   "cell_type": "code",
   "execution_count": 4,
   "metadata": {
    "id": "PXcENnxfE1et"
   },
   "outputs": [],
   "source": [
    "def NOT_logicFunction(x):\n",
    "    w = -1\n",
    "    b = 0.5\n",
    "    return perceptronModel(x, w, b)"
   ]
  },
  {
   "cell_type": "code",
   "execution_count": 5,
   "metadata": {
    "colab": {
     "base_uri": "https://localhost:8080/"
    },
    "id": "8KqD4CIDFLK2",
    "outputId": "e25600e6-607c-4694-d789-b59bf5647ac3"
   },
   "outputs": [
    {
     "name": "stdout",
     "output_type": "stream",
     "text": [
      "NOT 1 =  0\n",
      "NOT 0 =  1\n"
     ]
    }
   ],
   "source": [
    "input1 = np.array(1)\n",
    "input2 = np.array(0)\n",
    "\n",
    "print(\"NOT 1 = \",NOT_logicFunction(input1))\n",
    "print(\"NOT 0 = \",NOT_logicFunction(input2))"
   ]
  },
  {
   "cell_type": "markdown",
   "metadata": {
    "id": "6ptH62P2FqVr"
   },
   "source": [
    "### OR Gate"
   ]
  },
  {
   "cell_type": "code",
   "execution_count": 6,
   "metadata": {
    "id": "-iXPx42GFuwJ"
   },
   "outputs": [],
   "source": [
    "def OR_logicFunction(x):\n",
    "    w = np.array([1, 1])\n",
    "    b = -0.5\n",
    "    return perceptronModel(x, w, b)"
   ]
  },
  {
   "cell_type": "code",
   "execution_count": 7,
   "metadata": {
    "colab": {
     "base_uri": "https://localhost:8080/"
    },
    "id": "P9tSY-oNGFjF",
    "outputId": "27a3996f-bc28-4819-f04c-55440f568560"
   },
   "outputs": [
    {
     "name": "stdout",
     "output_type": "stream",
     "text": [
      "OR (0, 1) =  1\n",
      "OR (1, 1) =  1\n",
      "OR (0, 0) =  0\n",
      "OR (1, 0) =  1\n"
     ]
    }
   ],
   "source": [
    "input1 = np.array([0, 1])\n",
    "input2 = np.array([1, 1])\n",
    "input3 = np.array([0, 0])\n",
    "input4 = np.array([1, 0])\n",
    "\n",
    "print(\"OR (0, 1) = \",OR_logicFunction(input1))\n",
    "print(\"OR (1, 1) = \",OR_logicFunction(input2))\n",
    "print(\"OR (0, 0) = \",OR_logicFunction(input3))\n",
    "print(\"OR (1, 0) = \",OR_logicFunction(input4))"
   ]
  },
  {
   "cell_type": "markdown",
   "metadata": {
    "id": "RJhB3pdtHJ2R"
   },
   "source": [
    "### AND Gate"
   ]
  },
  {
   "cell_type": "code",
   "execution_count": 8,
   "metadata": {
    "id": "NW31iVhDGF86"
   },
   "outputs": [],
   "source": [
    "def AND_logicFunction(x):\n",
    "    w = np.array([1, 1])\n",
    "    b = -1.5\n",
    "    return perceptronModel(x, w, b)"
   ]
  },
  {
   "cell_type": "code",
   "execution_count": 9,
   "metadata": {
    "colab": {
     "base_uri": "https://localhost:8080/"
    },
    "id": "HsXoRdGrHTyP",
    "outputId": "e30b5c40-f749-4b2d-db8c-f3f3776138c0"
   },
   "outputs": [
    {
     "name": "stdout",
     "output_type": "stream",
     "text": [
      "AND (0, 1) =  0\n",
      "AND (1, 1) =  1\n",
      "AND (0, 0) =  0\n",
      "AND (1, 0) =  0\n"
     ]
    }
   ],
   "source": [
    "input1 = np.array([0, 1])\n",
    "input2 = np.array([1, 1])\n",
    "input3 = np.array([0, 0])\n",
    "input4 = np.array([1, 0])\n",
    "\n",
    "print(\"AND (0, 1) = \",AND_logicFunction(input1))\n",
    "print(\"AND (1, 1) = \",AND_logicFunction(input2))\n",
    "print(\"AND (0, 0) = \",AND_logicFunction(input3))\n",
    "print(\"AND (1, 0) = \",AND_logicFunction(input4))"
   ]
  },
  {
   "cell_type": "markdown",
   "metadata": {},
   "source": [
    "### NAND Gate"
   ]
  },
  {
   "cell_type": "code",
   "execution_count": 10,
   "metadata": {},
   "outputs": [],
   "source": [
    "def NAND_logicFunction(x):\n",
    "    w = np.array([-1, -1])\n",
    "    b = 1.5\n",
    "    return perceptronModel(x, w, b)"
   ]
  },
  {
   "cell_type": "code",
   "execution_count": 11,
   "metadata": {},
   "outputs": [
    {
     "name": "stdout",
     "output_type": "stream",
     "text": [
      "NAND (0, 1) =  1\n",
      "NAND (1, 1) =  0\n",
      "NAND (0, 0) =  1\n",
      "NAND (1, 0) =  1\n"
     ]
    }
   ],
   "source": [
    "input1 = np.array([0, 1])\n",
    "input2 = np.array([1, 1])\n",
    "input3 = np.array([0, 0])\n",
    "input4 = np.array([1, 0])\n",
    "\n",
    "print(\"NAND (0, 1) = \",NAND_logicFunction(input1))\n",
    "print(\"NAND (1, 1) = \",NAND_logicFunction(input2))\n",
    "print(\"NAND (0, 0) = \",NAND_logicFunction(input3))\n",
    "print(\"NAND (1, 0) = \",NAND_logicFunction(input4))"
   ]
  },
  {
   "cell_type": "markdown",
   "metadata": {},
   "source": [
    "### NOR Gate"
   ]
  },
  {
   "cell_type": "code",
   "execution_count": 12,
   "metadata": {},
   "outputs": [],
   "source": [
    "def NOR_logicFunction(x):\n",
    "    w = np.array([-1, -1])\n",
    "    b = 0.5\n",
    "    return perceptronModel(x, w, b)"
   ]
  },
  {
   "cell_type": "code",
   "execution_count": 13,
   "metadata": {},
   "outputs": [
    {
     "name": "stdout",
     "output_type": "stream",
     "text": [
      "NOR (0, 1) =  0\n",
      "NOR (1, 1) =  0\n",
      "NOR (0, 0) =  1\n",
      "NOR (1, 0) =  0\n"
     ]
    }
   ],
   "source": [
    "input1 = np.array([0, 1])\n",
    "input2 = np.array([1, 1])\n",
    "input3 = np.array([0, 0])\n",
    "input4 = np.array([1, 0])\n",
    "\n",
    "print(\"NOR (0, 1) = \",NOR_logicFunction(input1))\n",
    "print(\"NOR (1, 1) = \",NOR_logicFunction(input2))\n",
    "print(\"NOR (0, 0) = \",NOR_logicFunction(input3))\n",
    "print(\"NOR (1, 0) = \",NOR_logicFunction(input4))"
   ]
  },
  {
   "cell_type": "code",
   "execution_count": null,
   "metadata": {},
   "outputs": [],
   "source": []
  }
 ],
 "metadata": {
  "colab": {
   "name": "Perceptron 2/11/2022.ipynb",
   "provenance": [],
   "toc_visible": true
  },
  "kernelspec": {
   "display_name": "Python 3",
   "language": "python",
   "name": "python3"
  },
  "language_info": {
   "codemirror_mode": {
    "name": "ipython",
    "version": 3
   },
   "file_extension": ".py",
   "mimetype": "text/x-python",
   "name": "python",
   "nbconvert_exporter": "python",
   "pygments_lexer": "ipython3",
   "version": "3.8.3"
  }
 },
 "nbformat": 4,
 "nbformat_minor": 1
}
